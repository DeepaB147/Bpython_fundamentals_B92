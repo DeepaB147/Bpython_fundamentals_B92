{
 "cells": [
  {
   "cell_type": "code",
   "execution_count": null,
   "id": "0be4768f-5b91-4744-9416-c13c15b2c5d5",
   "metadata": {},
   "outputs": [],
   "source": [
    "Continuation with string data types"
   ]
  },
  {
   "cell_type": "code",
   "execution_count": null,
   "id": "6c450b9c-944a-4662-9951-f788414d7381",
   "metadata": {},
   "outputs": [],
   "source": [
    "Introduction to f strings:"
   ]
  },
  {
   "cell_type": "code",
   "execution_count": null,
   "id": "e68803c3-94da-4574-9261-d88a5097dfbe",
   "metadata": {},
   "outputs": [],
   "source": [
    "#General syntax of f strings:"
   ]
  },
  {
   "cell_type": "code",
   "execution_count": null,
   "id": "b995e55d-be5b-4a43-bd02-1e6aa73c9bce",
   "metadata": {},
   "outputs": [],
   "source": [
    "f \" custom message {place_holder_1} {place_holder_2}....{place_holder_n}\""
   ]
  },
  {
   "cell_type": "code",
   "execution_count": 67,
   "id": "0a2afd14-9c82-4f22-9d1b-1c95181e2574",
   "metadata": {},
   "outputs": [
    {
     "name": "stdout",
     "output_type": "stream",
     "text": [
      " Davidjohn\n"
     ]
    }
   ],
   "source": [
    "firstname = \"David\"\n",
    "lastname = \"john\"   #req: I want to get the fullname\n",
    "fullname= f\" {firstname}{lastname}\"\n",
    "print(fullname)"
   ]
  },
  {
   "cell_type": "code",
   "execution_count": 69,
   "id": "a7a822a7-1f66-4167-b4f5-0c02d6ca9dde",
   "metadata": {},
   "outputs": [
    {
     "name": "stdout",
     "output_type": "stream",
     "text": [
      " keep up the good work,  Davidjohn\n"
     ]
    }
   ],
   "source": [
    "message = f\" keep up the good work, {fullname}\"\n",
    "print(message)"
   ]
  },
  {
   "cell_type": "code",
   "execution_count": 71,
   "id": "457a283b-f1f7-47cb-919a-cfacec9393b5",
   "metadata": {},
   "outputs": [
    {
     "data": {
      "text/plain": [
       "str"
      ]
     },
     "execution_count": 71,
     "metadata": {},
     "output_type": "execute_result"
    }
   ],
   "source": [
    "type(fullname)"
   ]
  },
  {
   "cell_type": "code",
   "execution_count": null,
   "id": "09fea5e8-a5ff-4993-843d-7491458b823f",
   "metadata": {},
   "outputs": [],
   "source": []
  },
  {
   "cell_type": "code",
   "execution_count": null,
   "id": "99736ce3-15c8-4eff-9205-bf4b76dbc77a",
   "metadata": {},
   "outputs": [],
   "source": [
    "#adding whitespaces to string:"
   ]
  },
  {
   "cell_type": "code",
   "execution_count": 37,
   "id": "77f9219a-9495-4aa7-b62e-ceffca84b8e6",
   "metadata": {},
   "outputs": [
    {
     "name": "stdout",
     "output_type": "stream",
     "text": [
      "fav_programming_lang:pythonc++javacjavascriptswift\n"
     ]
    }
   ],
   "source": [
    "print(\"fav_programming_lang:pythonc++javacjavascriptswift\")"
   ]
  },
  {
   "cell_type": "code",
   "execution_count": 45,
   "id": "d3774468-29eb-4f61-a1e3-9e2dd1161155",
   "metadata": {},
   "outputs": [
    {
     "name": "stdout",
     "output_type": "stream",
     "text": [
      "fav_programming_lang:\n",
      "python\n",
      "c++\n",
      "java\n",
      "c\n",
      "javascript\n",
      "swift\n"
     ]
    }
   ],
   "source": [
    "print(\"fav_programming_lang:\\npython\\nc++\\njava\\nc\\njavascript\\nswift\") #\\n newline delimiter"
   ]
  },
  {
   "cell_type": "code",
   "execution_count": 47,
   "id": "003be274-485a-46a9-9e20-1378ad41e948",
   "metadata": {},
   "outputs": [
    {
     "name": "stdout",
     "output_type": "stream",
     "text": [
      "fav_programming_lang:\n",
      "\tpython\n",
      "\tc++\n",
      "\tjava\n",
      "\tc\n",
      "\tjavascript\n",
      "\tswift\n"
     ]
    }
   ],
   "source": [
    "print(\"fav_programming_lang:\\n\\tpython\\n\\tc++\\n\\tjava\\n\\tc\\n\\tjavascript\\n\\tswift\") #\\t newline delimiter"
   ]
  },
  {
   "cell_type": "code",
   "execution_count": null,
   "id": "fddc7f68-7c6e-4496-98bb-1e861f6db040",
   "metadata": {},
   "outputs": [],
   "source": []
  },
  {
   "cell_type": "code",
   "execution_count": null,
   "id": "2748a497-25d6-4f2f-aa26-4111cb5590ac",
   "metadata": {},
   "outputs": [],
   "source": [
    "Removing whitespaces from the string"
   ]
  },
  {
   "cell_type": "code",
   "execution_count": 73,
   "id": "730523ff-3043-487a-b9b7-d0b3924f17b4",
   "metadata": {},
   "outputs": [
    {
     "name": "stdout",
     "output_type": "stream",
     "text": [
      " python\n"
     ]
    }
   ],
   "source": [
    "name=' python'\n",
    "print(name)"
   ]
  },
  {
   "cell_type": "code",
   "execution_count": 75,
   "id": "832e801e-e028-48e4-8bda-9545045a3603",
   "metadata": {},
   "outputs": [
    {
     "name": "stdout",
     "output_type": "stream",
     "text": [
      "python\n"
     ]
    }
   ],
   "source": [
    "name2='python'\n",
    "print(name2)"
   ]
  },
  {
   "cell_type": "code",
   "execution_count": 77,
   "id": "908e772d-bf35-4651-a49d-778b8680f3f0",
   "metadata": {},
   "outputs": [
    {
     "name": "stdout",
     "output_type": "stream",
     "text": [
      "pyhton \n"
     ]
    }
   ],
   "source": [
    "name3='pyhton '\n",
    "print(name3)"
   ]
  },
  {
   "cell_type": "code",
   "execution_count": 85,
   "id": "3bd2292e-f774-48f7-9c37-993c08c41069",
   "metadata": {},
   "outputs": [
    {
     "data": {
      "text/plain": [
       "'pyhton'"
      ]
     },
     "execution_count": 85,
     "metadata": {},
     "output_type": "execute_result"
    }
   ],
   "source": [
    "name3.rstrip()"
   ]
  },
  {
   "cell_type": "code",
   "execution_count": 79,
   "id": "71bc8630-4206-435a-8bc7-7a87aecd48cf",
   "metadata": {},
   "outputs": [
    {
     "data": {
      "text/plain": [
       "'python'"
      ]
     },
     "execution_count": 79,
     "metadata": {},
     "output_type": "execute_result"
    }
   ],
   "source": [
    "name.lstrip()"
   ]
  },
  {
   "cell_type": "raw",
   "id": "08055203-8ed5-4e28-a0c7-731b22a8d612",
   "metadata": {},
   "source": []
  },
  {
   "cell_type": "code",
   "execution_count": 81,
   "id": "f8133f2a-1f4a-423f-b6dd-66df82a3c859",
   "metadata": {},
   "outputs": [
    {
     "name": "stdout",
     "output_type": "stream",
     "text": [
      " python \n"
     ]
    }
   ],
   "source": [
    "name4=\" python \"\n",
    "print(name4)"
   ]
  },
  {
   "cell_type": "code",
   "execution_count": 83,
   "id": "ebd8b012-4356-46a7-af80-7978da39cc67",
   "metadata": {},
   "outputs": [
    {
     "data": {
      "text/plain": [
       "'python'"
      ]
     },
     "execution_count": 83,
     "metadata": {},
     "output_type": "execute_result"
    }
   ],
   "source": [
    "name4.strip()"
   ]
  },
  {
   "cell_type": "code",
   "execution_count": null,
   "id": "7cfd8742-6778-410a-a370-eb6a27144fc7",
   "metadata": {},
   "outputs": [],
   "source": []
  },
  {
   "cell_type": "code",
   "execution_count": null,
   "id": "bf746f14-1c51-4b29-a3f4-c678370cc798",
   "metadata": {},
   "outputs": [],
   "source": []
  }
 ],
 "metadata": {
  "kernelspec": {
   "display_name": "Python [conda env:base] *",
   "language": "python",
   "name": "conda-base-py"
  },
  "language_info": {
   "codemirror_mode": {
    "name": "ipython",
    "version": 3
   },
   "file_extension": ".py",
   "mimetype": "text/x-python",
   "name": "python",
   "nbconvert_exporter": "python",
   "pygments_lexer": "ipython3",
   "version": "3.12.7"
  }
 },
 "nbformat": 4,
 "nbformat_minor": 5
}

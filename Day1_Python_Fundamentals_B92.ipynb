{
 "cells": [
  {
   "cell_type": "code",
   "execution_count": 1,
   "id": "34037f1c-750f-41d2-a299-b08a631e0415",
   "metadata": {},
   "outputs": [
    {
     "name": "stdout",
     "output_type": "stream",
     "text": [
      "Hello all welcome to python programming world\n"
     ]
    }
   ],
   "source": [
    "print(\"Hello all welcome to python programming world\")"
   ]
  },
  {
   "cell_type": "code",
   "execution_count": null,
   "id": "dc4c9b7e-a629-4892-a2f6-798afc94f56a",
   "metadata": {},
   "outputs": [],
   "source": []
  }
 ],
 "metadata": {
  "kernelspec": {
   "display_name": "Python [conda env:base] *",
   "language": "python",
   "name": "conda-base-py"
  },
  "language_info": {
   "codemirror_mode": {
    "name": "ipython",
    "version": 3
   },
   "file_extension": ".py",
   "mimetype": "text/x-python",
   "name": "python",
   "nbconvert_exporter": "python",
   "pygments_lexer": "ipython3",
   "version": "3.12.7"
  }
 },
 "nbformat": 4,
 "nbformat_minor": 5
}

{
 "cells": [
  {
   "cell_type": "code",
   "execution_count": null,
   "id": "54cfe90e-5e7e-42c4-9729-973bafef129f",
   "metadata": {},
   "outputs": [],
   "source": [
    "Introduction to tuple datatype:"
   ]
  },
  {
   "cell_type": "code",
   "execution_count": null,
   "id": "96744cd7-05ea-4d5c-88a3-18df33be001a",
   "metadata": {},
   "outputs": [],
   "source": [
    "Definition: An immutable list is called a tuple\n",
    "\n",
    "Classification: It is classified as am immutable datatype"
   ]
  },
  {
   "cell_type": "code",
   "execution_count": null,
   "id": "423fa978-4a13-4bcb-919d-f14932e3cb54",
   "metadata": {},
   "outputs": [],
   "source": [
    "how to define a tuple...? ()"
   ]
  },
  {
   "cell_type": "code",
   "execution_count": 5,
   "id": "2ef86654-2da5-4c22-a3c1-09436833b6b7",
   "metadata": {},
   "outputs": [
    {
     "data": {
      "text/plain": [
       "('praveen', 'dinesh', 'pooja', 'rahul', 'sajid')"
      ]
     },
     "execution_count": 5,
     "metadata": {},
     "output_type": "execute_result"
    }
   ],
   "source": [
    "students=('praveen','dinesh','pooja','rahul','sajid')\n",
    "tuple(students)"
   ]
  },
  {
   "cell_type": "code",
   "execution_count": 7,
   "id": "b3b53f25-23da-458a-aa64-13960d555900",
   "metadata": {},
   "outputs": [
    {
     "data": {
      "text/plain": [
       "tuple"
      ]
     },
     "execution_count": 7,
     "metadata": {},
     "output_type": "execute_result"
    }
   ],
   "source": [
    "type(students)"
   ]
  },
  {
   "cell_type": "code",
   "execution_count": null,
   "id": "c7e24e85-87ee-4054-82ca-d152a4170bf2",
   "metadata": {},
   "outputs": [],
   "source": [
    "#req: i want to acess dinesh name in the o/p...?"
   ]
  },
  {
   "cell_type": "code",
   "execution_count": 9,
   "id": "69391a52-703b-4a5b-96ba-345442584873",
   "metadata": {},
   "outputs": [
    {
     "name": "stdout",
     "output_type": "stream",
     "text": [
      "dinesh\n"
     ]
    }
   ],
   "source": [
    "print(students[1])"
   ]
  },
  {
   "cell_type": "code",
   "execution_count": null,
   "id": "2059af81-62e3-4c0c-9c11-ec2076dfe4ee",
   "metadata": {},
   "outputs": [],
   "source": [
    "#req: i want to modify pooja name to radha"
   ]
  },
  {
   "cell_type": "code",
   "execution_count": 11,
   "id": "378a803d-bbcd-42bd-96b5-0ae9eb87e017",
   "metadata": {},
   "outputs": [
    {
     "ename": "TypeError",
     "evalue": "'tuple' object does not support item assignment",
     "output_type": "error",
     "traceback": [
      "\u001b[1;31m---------------------------------------------------------------------------\u001b[0m",
      "\u001b[1;31mTypeError\u001b[0m                                 Traceback (most recent call last)",
      "Cell \u001b[1;32mIn[11], line 1\u001b[0m\n\u001b[1;32m----> 1\u001b[0m students[\u001b[38;5;241m2\u001b[39m]\u001b[38;5;241m=\u001b[39m\u001b[38;5;124m'\u001b[39m\u001b[38;5;124mradha\u001b[39m\u001b[38;5;124m'\u001b[39m\n",
      "\u001b[1;31mTypeError\u001b[0m: 'tuple' object does not support item assignment"
     ]
    }
   ],
   "source": [
    "students[2]='radha'"
   ]
  },
  {
   "cell_type": "code",
   "execution_count": 15,
   "id": "895bebaa-b155-4eec-badb-7aae7e4451bb",
   "metadata": {},
   "outputs": [
    {
     "name": "stdout",
     "output_type": "stream",
     "text": [
      "(200, 50)\n"
     ]
    }
   ],
   "source": [
    "dimensions=(200,50)\n",
    "print(dimensions)"
   ]
  },
  {
   "cell_type": "code",
   "execution_count": 17,
   "id": "314c03aa-fd9d-4155-b9e0-54682e453ec6",
   "metadata": {},
   "outputs": [
    {
     "data": {
      "text/plain": [
       "tuple"
      ]
     },
     "execution_count": 17,
     "metadata": {},
     "output_type": "execute_result"
    }
   ],
   "source": [
    "type(dimensions)"
   ]
  },
  {
   "cell_type": "code",
   "execution_count": 19,
   "id": "9f4ed8e7-8570-410c-9eb3-aebded6b35e1",
   "metadata": {},
   "outputs": [
    {
     "name": "stdout",
     "output_type": "stream",
     "text": [
      "praveen\n",
      "dinesh\n",
      "pooja\n",
      "rahul\n",
      "sajid\n"
     ]
    }
   ],
   "source": [
    "for x in students:\n",
    "    print(x)"
   ]
  },
  {
   "cell_type": "code",
   "execution_count": 21,
   "id": "9ffb3b90-dd6b-4a20-959c-ed0894c331ad",
   "metadata": {},
   "outputs": [
    {
     "name": "stdout",
     "output_type": "stream",
     "text": [
      "['dinesh', 'pooja', 'praveen', 'rahul', 'sajid']\n"
     ]
    }
   ],
   "source": [
    "print(sorted(students))"
   ]
  },
  {
   "cell_type": "code",
   "execution_count": null,
   "id": "bdb56eef-618a-49a4-8345-612cce9afff8",
   "metadata": {},
   "outputs": [],
   "source": []
  },
  {
   "cell_type": "code",
   "execution_count": null,
   "id": "162e395a-5dba-4bb8-a059-8fd634a36a27",
   "metadata": {},
   "outputs": [],
   "source": [
    "Introduction to dictionary datatype:\n",
    "\n",
    "Definition: A dictionary is a combination of key value pairs.\n",
    "Classification: it is mutable datatype( we can edit/alter the dictionary)"
   ]
  },
  {
   "cell_type": "code",
   "execution_count": null,
   "id": "0c43a531-880d-41fa-bf5a-fa9f8a72f6b9",
   "metadata": {},
   "outputs": [],
   "source": [
    "#req: i want to create a alien games"
   ]
  },
  {
   "cell_type": "code",
   "execution_count": 23,
   "id": "5a83fbe0-7e4d-4e2e-9e65-9d4b15340d9c",
   "metadata": {},
   "outputs": [
    {
     "name": "stdout",
     "output_type": "stream",
     "text": [
      "{'color': 'green', 'points': 5}\n"
     ]
    }
   ],
   "source": [
    "alien={'color':'green','points':5}\n",
    "print(alien)"
   ]
  },
  {
   "cell_type": "code",
   "execution_count": 25,
   "id": "6bf0f465-2362-433f-8977-a01569954b06",
   "metadata": {},
   "outputs": [
    {
     "data": {
      "text/plain": [
       "dict"
      ]
     },
     "execution_count": 25,
     "metadata": {},
     "output_type": "execute_result"
    }
   ],
   "source": [
    "type(alien)"
   ]
  },
  {
   "cell_type": "code",
   "execution_count": null,
   "id": "a8750116-6fba-467b-b8dd-4e6feaf82d52",
   "metadata": {},
   "outputs": [],
   "source": [
    "Note: In the dictionary keys will be acting like an index"
   ]
  },
  {
   "cell_type": "code",
   "execution_count": null,
   "id": "6a596382-232c-4023-865d-8ed8cc486595",
   "metadata": {},
   "outputs": [],
   "source": [
    "#req: i want to know what is the color of alien"
   ]
  },
  {
   "cell_type": "code",
   "execution_count": 27,
   "id": "2d4d4ccb-f602-488e-8d9a-515256507699",
   "metadata": {},
   "outputs": [
    {
     "name": "stdout",
     "output_type": "stream",
     "text": [
      "green\n"
     ]
    }
   ],
   "source": [
    "print(alien['color'])"
   ]
  },
  {
   "cell_type": "code",
   "execution_count": null,
   "id": "4d416aa7-922e-4455-bb9c-2e9289fa294e",
   "metadata": {},
   "outputs": [],
   "source": [
    "#req: give the key and get the value."
   ]
  },
  {
   "cell_type": "code",
   "execution_count": 29,
   "id": "1d8c6190-55ae-4ea9-a34a-cf40db68a5f3",
   "metadata": {},
   "outputs": [
    {
     "ename": "KeyError",
     "evalue": "5",
     "output_type": "error",
     "traceback": [
      "\u001b[1;31m---------------------------------------------------------------------------\u001b[0m",
      "\u001b[1;31mKeyError\u001b[0m                                  Traceback (most recent call last)",
      "Cell \u001b[1;32mIn[29], line 1\u001b[0m\n\u001b[1;32m----> 1\u001b[0m \u001b[38;5;28mprint\u001b[39m(alien[\u001b[38;5;241m5\u001b[39m])\n",
      "\u001b[1;31mKeyError\u001b[0m: 5"
     ]
    }
   ],
   "source": [
    "print(alien[5])"
   ]
  },
  {
   "cell_type": "code",
   "execution_count": null,
   "id": "a10965ca-a7a8-46b3-ae11-b6ae8246e440",
   "metadata": {},
   "outputs": [],
   "source": []
  },
  {
   "cell_type": "code",
   "execution_count": null,
   "id": "8a58a278-596e-403b-8d4d-08f404b7e857",
   "metadata": {},
   "outputs": [],
   "source": []
  },
  {
   "cell_type": "code",
   "execution_count": null,
   "id": "900bfed2-13b6-4cbd-a7fb-4f2c19bec389",
   "metadata": {},
   "outputs": [],
   "source": []
  },
  {
   "cell_type": "code",
   "execution_count": null,
   "id": "01673dff-849d-4ea8-958c-123719204134",
   "metadata": {},
   "outputs": [],
   "source": []
  },
  {
   "cell_type": "code",
   "execution_count": null,
   "id": "3cbdb867-b587-47bf-90bc-d32cc17b25a8",
   "metadata": {},
   "outputs": [],
   "source": []
  },
  {
   "cell_type": "code",
   "execution_count": null,
   "id": "03892798-815b-4b27-a828-97550da96086",
   "metadata": {},
   "outputs": [],
   "source": []
  },
  {
   "cell_type": "code",
   "execution_count": null,
   "id": "20a6ddaf-5442-4b3e-87fc-39d578ff7621",
   "metadata": {},
   "outputs": [],
   "source": []
  },
  {
   "cell_type": "code",
   "execution_count": null,
   "id": "3cae7d8b-1c1b-4910-8c47-c22c68bfa256",
   "metadata": {},
   "outputs": [],
   "source": []
  },
  {
   "cell_type": "code",
   "execution_count": null,
   "id": "ab8a5c98-6022-47a1-b5bf-008594439e00",
   "metadata": {},
   "outputs": [],
   "source": []
  },
  {
   "cell_type": "code",
   "execution_count": null,
   "id": "a82125f8-dae4-4225-b705-895f47e76327",
   "metadata": {},
   "outputs": [],
   "source": []
  },
  {
   "cell_type": "code",
   "execution_count": null,
   "id": "d25ebf17-6944-4914-8df5-58647e95e2ce",
   "metadata": {},
   "outputs": [],
   "source": []
  },
  {
   "cell_type": "code",
   "execution_count": null,
   "id": "5bbd9222-4062-4d60-9778-73734874ba62",
   "metadata": {},
   "outputs": [],
   "source": []
  },
  {
   "cell_type": "code",
   "execution_count": null,
   "id": "87c2c229-add8-4bf8-98f3-a00eec22d067",
   "metadata": {},
   "outputs": [],
   "source": []
  },
  {
   "cell_type": "code",
   "execution_count": null,
   "id": "06245c89-3bb3-4735-9d8d-329ecb0757b2",
   "metadata": {},
   "outputs": [],
   "source": []
  },
  {
   "cell_type": "code",
   "execution_count": null,
   "id": "c8073b37-b75e-4b4e-82e9-dadce92b0864",
   "metadata": {},
   "outputs": [],
   "source": []
  },
  {
   "cell_type": "code",
   "execution_count": null,
   "id": "6379cd41-5eb4-40f0-a86e-4d805b844a86",
   "metadata": {},
   "outputs": [],
   "source": []
  },
  {
   "cell_type": "code",
   "execution_count": null,
   "id": "b871143b-164e-4fe1-9402-8774ba038a19",
   "metadata": {},
   "outputs": [],
   "source": []
  },
  {
   "cell_type": "code",
   "execution_count": null,
   "id": "f994078e-5558-4db3-939e-528bfafabc3a",
   "metadata": {},
   "outputs": [],
   "source": []
  },
  {
   "cell_type": "code",
   "execution_count": null,
   "id": "e8fc50ce-e796-41de-9d82-e073a190d9f7",
   "metadata": {},
   "outputs": [],
   "source": []
  },
  {
   "cell_type": "code",
   "execution_count": null,
   "id": "53d9d63b-8b4e-4e8d-acd1-daec97631393",
   "metadata": {},
   "outputs": [],
   "source": []
  },
  {
   "cell_type": "code",
   "execution_count": null,
   "id": "a1090d23-d796-4338-a280-639702dd1126",
   "metadata": {},
   "outputs": [],
   "source": []
  },
  {
   "cell_type": "code",
   "execution_count": null,
   "id": "0ee35f98-cbb1-4b8c-82d0-a7907798a89c",
   "metadata": {},
   "outputs": [],
   "source": []
  },
  {
   "cell_type": "code",
   "execution_count": null,
   "id": "acd0ec60-c4e0-4e49-8def-033eb3ed4f29",
   "metadata": {},
   "outputs": [],
   "source": []
  }
 ],
 "metadata": {
  "kernelspec": {
   "display_name": "Python [conda env:base] *",
   "language": "python",
   "name": "conda-base-py"
  },
  "language_info": {
   "codemirror_mode": {
    "name": "ipython",
    "version": 3
   },
   "file_extension": ".py",
   "mimetype": "text/x-python",
   "name": "python",
   "nbconvert_exporter": "python",
   "pygments_lexer": "ipython3",
   "version": "3.12.7"
  }
 },
 "nbformat": 4,
 "nbformat_minor": 5
}

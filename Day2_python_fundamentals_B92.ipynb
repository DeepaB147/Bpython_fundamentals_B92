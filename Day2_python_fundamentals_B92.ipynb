{
 "cells": [
  {
   "cell_type": "code",
   "execution_count": null,
   "id": "4a5ef4ea-c683-4ac9-a5eb-24b17c8980ff",
   "metadata": {},
   "outputs": [],
   "source": [
    "Introduction to python fundaments"
   ]
  },
  {
   "cell_type": "code",
   "execution_count": null,
   "id": "95c512db-cb46-4b30-9f2c-fc6956e73da2",
   "metadata": {},
   "outputs": [],
   "source": []
  },
  {
   "cell_type": "code",
   "execution_count": null,
   "id": "617c71dd-74d2-422c-974f-3f9d4c64d181",
   "metadata": {},
   "outputs": [],
   "source": [
    "Understanding the variables in pyhton :"
   ]
  },
  {
   "cell_type": "code",
   "execution_count": 11,
   "id": "824fc3d2-381a-4037-b3ab-8a7bd31c8a4e",
   "metadata": {},
   "outputs": [
    {
     "name": "stdout",
     "output_type": "stream",
     "text": [
      "5\n"
     ]
    }
   ],
   "source": [
    "x = 2\n",
    "y = 3\n",
    "z = x + y\n",
    "print(z)"
   ]
  },
  {
   "cell_type": "code",
   "execution_count": null,
   "id": "7307f01d-59c6-4806-acfd-9f91aa69e4bd",
   "metadata": {},
   "outputs": [],
   "source": [
    "Rules for declaring the variables :"
   ]
  },
  {
   "cell_type": "code",
   "execution_count": null,
   "id": "ec681b67-21a8-4883-a848-0fe2ff0a3711",
   "metadata": {},
   "outputs": [],
   "source": [
    "Rule no 1:  No namespaces while declaring the variable"
   ]
  },
  {
   "cell_type": "code",
   "execution_count": 13,
   "id": "a0027b4a-2bf0-4ff7-8e47-3cd9d71465f4",
   "metadata": {},
   "outputs": [
    {
     "ename": "SyntaxError",
     "evalue": "invalid syntax (1492684170.py, line 1)",
     "output_type": "error",
     "traceback": [
      "\u001b[1;36m  Cell \u001b[1;32mIn[13], line 1\u001b[1;36m\u001b[0m\n\u001b[1;33m    first name = 'ABC'\u001b[0m\n\u001b[1;37m          ^\u001b[0m\n\u001b[1;31mSyntaxError\u001b[0m\u001b[1;31m:\u001b[0m invalid syntax\n"
     ]
    }
   ],
   "source": [
    "first name = 'ABC'\n",
    "print(firstname)"
   ]
  },
  {
   "cell_type": "code",
   "execution_count": 15,
   "id": "87d32bb4-9581-4812-a021-d4cae1292666",
   "metadata": {},
   "outputs": [
    {
     "name": "stdout",
     "output_type": "stream",
     "text": [
      "ABC\n"
     ]
    }
   ],
   "source": [
    "firstname ='ABC'\n",
    "print(firstname)"
   ]
  },
  {
   "cell_type": "code",
   "execution_count": 17,
   "id": "084d6edd-9b46-4b80-bd8c-b12c819e0520",
   "metadata": {},
   "outputs": [
    {
     "name": "stdout",
     "output_type": "stream",
     "text": [
      "ABC\n"
     ]
    }
   ],
   "source": [
    "first_name = 'ABC'\n",
    "print(first_name)"
   ]
  },
  {
   "cell_type": "code",
   "execution_count": null,
   "id": "a9f92a38-5d6f-407a-9a6a-63b7431e35cc",
   "metadata": {},
   "outputs": [],
   "source": [
    "Rule no 2: A variable name should not start with a number"
   ]
  },
  {
   "cell_type": "code",
   "execution_count": 19,
   "id": "2a792b13-ec3c-4625-a8e5-a6f7aa4bc170",
   "metadata": {},
   "outputs": [
    {
     "ename": "SyntaxError",
     "evalue": "invalid decimal literal (3130463926.py, line 1)",
     "output_type": "error",
     "traceback": [
      "\u001b[1;36m  Cell \u001b[1;32mIn[19], line 1\u001b[1;36m\u001b[0m\n\u001b[1;33m    1name = 'ABC'\u001b[0m\n\u001b[1;37m    ^\u001b[0m\n\u001b[1;31mSyntaxError\u001b[0m\u001b[1;31m:\u001b[0m invalid decimal literal\n"
     ]
    }
   ],
   "source": [
    "1name = 'ABC'\n",
    "print(1name)"
   ]
  },
  {
   "cell_type": "code",
   "execution_count": 21,
   "id": "a09c1068-0989-4f56-8ed6-d0fb1e0a778b",
   "metadata": {},
   "outputs": [
    {
     "name": "stdout",
     "output_type": "stream",
     "text": [
      "ABC\n"
     ]
    }
   ],
   "source": [
    "name1 = 'ABC'\n",
    "print(name1)"
   ]
  },
  {
   "cell_type": "code",
   "execution_count": null,
   "id": "f34d4d0a-5661-4440-bddb-4acf05649120",
   "metadata": {},
   "outputs": [],
   "source": [
    "Rule no 3: A variable name should not contain any special characters\n",
    "#@!$%^*"
   ]
  },
  {
   "cell_type": "code",
   "execution_count": 23,
   "id": "68361435-f476-4c81-a515-de2256a5a1fa",
   "metadata": {},
   "outputs": [
    {
     "ename": "SyntaxError",
     "evalue": "invalid syntax (2989911346.py, line 1)",
     "output_type": "error",
     "traceback": [
      "\u001b[1;36m  Cell \u001b[1;32mIn[23], line 1\u001b[1;36m\u001b[0m\n\u001b[1;33m    name@ = 'abc'\u001b[0m\n\u001b[1;37m          ^\u001b[0m\n\u001b[1;31mSyntaxError\u001b[0m\u001b[1;31m:\u001b[0m invalid syntax\n"
     ]
    }
   ],
   "source": [
    "name@ = 'abc'\n",
    "print('name@')"
   ]
  },
  {
   "cell_type": "code",
   "execution_count": null,
   "id": "3a61f3ef-5642-40a6-a93b-0f0cc57f6213",
   "metadata": {},
   "outputs": [],
   "source": [
    "Introduction to datatypes:\n",
    "\n",
    "1. Strings ===> str\n",
    "2. numbers ===> integers---> int    and floats(decimal)---> float\n",
    "3. lists ===> list\n",
    "4. tuple ===> tuple\n",
    "5. Dictionary ===> dict"
   ]
  },
  {
   "cell_type": "code",
   "execution_count": null,
   "id": "5e0c440a-a024-40b4-a30d-1b998875f95d",
   "metadata": {},
   "outputs": [],
   "source": [
    "classification of datatypes:\n",
    "\n",
    "   Broadly datatypes are classified in to two categeries:\n",
    "\n",
    "     1. mutable datatypes ===> these are flexible in nature ===> which we can edit and alter\n",
    "     2. Immutable datatypes ===> these are fixed in nature ===> which we cannot be able to edit and alter"
   ]
  },
  {
   "cell_type": "code",
   "execution_count": null,
   "id": "793626d9-2c4d-458d-b3bb-6cd85adf5442",
   "metadata": {},
   "outputs": [],
   "source": []
  },
  {
   "cell_type": "code",
   "execution_count": null,
   "id": "4a0ddba9-a698-4341-be69-4b9e1eeb7df6",
   "metadata": {},
   "outputs": [],
   "source": [
    "Introduction to string datatype :\n",
    "\n",
    "defination : A string is a series of characters declared in quotes.\n",
    "\n",
    "classification : It is classified as an immutable datatype\n",
    "\n",
    "how to declare the string.......?\n",
    "\n",
    "2 approaches:\n",
    "\n",
    "  1. Single quote\n",
    "  2. Double quote\n"
   ]
  },
  {
   "cell_type": "code",
   "execution_count": 25,
   "id": "32919387-5fb1-4275-9db6-25989706b722",
   "metadata": {},
   "outputs": [
    {
     "name": "stdout",
     "output_type": "stream",
     "text": [
      "Kshiti\n"
     ]
    }
   ],
   "source": [
    "firstname = 'Kshiti'\n",
    "print(firstname)"
   ]
  },
  {
   "cell_type": "markdown",
   "id": "d07d9ca4-2669-4c57-9244-74c16159d6a7",
   "metadata": {},
   "source": []
  },
  {
   "cell_type": "code",
   "execution_count": 30,
   "id": "12a03fc6-36db-45c3-870d-a2b42631b880",
   "metadata": {},
   "outputs": [
    {
     "name": "stdout",
     "output_type": "stream",
     "text": [
      "Kshiti\n"
     ]
    }
   ],
   "source": [
    "name = \"Kshiti\"\n",
    "print(name)"
   ]
  },
  {
   "cell_type": "code",
   "execution_count": null,
   "id": "c1a6f218-1ec0-43e2-b416-dc4cadd4db9a",
   "metadata": {},
   "outputs": [],
   "source": []
  },
  {
   "cell_type": "code",
   "execution_count": null,
   "id": "2abb503c-5b31-4f70-ae9e-bb0ea10bfaeb",
   "metadata": {},
   "outputs": [],
   "source": [
    "Introduction to string methods:"
   ]
  },
  {
   "cell_type": "code",
   "execution_count": 34,
   "id": "0dac1846-7099-4eb0-b071-d42d4751ecca",
   "metadata": {},
   "outputs": [
    {
     "data": {
      "text/plain": [
       "str"
      ]
     },
     "execution_count": 34,
     "metadata": {},
     "output_type": "execute_result"
    }
   ],
   "source": [
    "type(firstname)"
   ]
  },
  {
   "cell_type": "code",
   "execution_count": 36,
   "id": "2c040632-94d3-4db1-8b95-07977713a821",
   "metadata": {},
   "outputs": [
    {
     "data": {
      "text/plain": [
       "str"
      ]
     },
     "execution_count": 36,
     "metadata": {},
     "output_type": "execute_result"
    }
   ],
   "source": [
    "type(name)"
   ]
  },
  {
   "cell_type": "code",
   "execution_count": null,
   "id": "cfbd2157-3cac-48db-817b-0143269007e8",
   "metadata": {},
   "outputs": [],
   "source": [
    "Note : 1 Python is a case sensitive language"
   ]
  },
  {
   "cell_type": "code",
   "execution_count": 40,
   "id": "15c6fbdb-1fb0-4697-a2ab-7a129607775b",
   "metadata": {},
   "outputs": [
    {
     "name": "stdout",
     "output_type": "stream",
     "text": [
      "durga prasad\n"
     ]
    }
   ],
   "source": [
    "fullname = 'durga prasad'\n",
    "print(fullname)"
   ]
  },
  {
   "cell_type": "code",
   "execution_count": 42,
   "id": "fc88ba28-436e-4d0f-b1c8-cefb62c3b70c",
   "metadata": {},
   "outputs": [
    {
     "name": "stdout",
     "output_type": "stream",
     "text": [
      "Durga Prasad\n"
     ]
    }
   ],
   "source": [
    "print(fullname.title())"
   ]
  },
  {
   "cell_type": "code",
   "execution_count": null,
   "id": "364e9397-509e-4756-a03a-0e8c6100d0e6",
   "metadata": {},
   "outputs": [],
   "source": [
    "#req: i want the entire name in capital lettes"
   ]
  },
  {
   "cell_type": "code",
   "execution_count": 44,
   "id": "a11f230d-e51d-4cd4-a486-126fe005ea18",
   "metadata": {},
   "outputs": [
    {
     "name": "stdout",
     "output_type": "stream",
     "text": [
      "DURGA PRASAD\n"
     ]
    }
   ],
   "source": [
    "print(fullname.upper())"
   ]
  },
  {
   "cell_type": "code",
   "execution_count": null,
   "id": "e9afc2d4-2851-4792-b36a-4aed4d0b9c20",
   "metadata": {},
   "outputs": [],
   "source": [
    "#req: i want the entire name is small letters."
   ]
  },
  {
   "cell_type": "code",
   "execution_count": 46,
   "id": "d72c7163-c610-4626-89de-1d450e5563bc",
   "metadata": {},
   "outputs": [
    {
     "name": "stdout",
     "output_type": "stream",
     "text": [
      "durga prasad\n"
     ]
    }
   ],
   "source": [
    "print(fullname.lower())"
   ]
  },
  {
   "cell_type": "code",
   "execution_count": null,
   "id": "1496e512-457c-432e-8733-7ed5a087145f",
   "metadata": {},
   "outputs": [],
   "source": []
  },
  {
   "cell_type": "code",
   "execution_count": null,
   "id": "4a1072f3-fe7a-43ed-9a1f-ea4eec74520b",
   "metadata": {},
   "outputs": [],
   "source": []
  },
  {
   "cell_type": "code",
   "execution_count": null,
   "id": "43779060-dc6a-4099-9abe-6a0e36bc204b",
   "metadata": {},
   "outputs": [],
   "source": []
  },
  {
   "cell_type": "code",
   "execution_count": null,
   "id": "df3e19c5-a94d-4303-adbd-4e59546408a5",
   "metadata": {},
   "outputs": [],
   "source": []
  },
  {
   "cell_type": "code",
   "execution_count": null,
   "id": "a08ae1c3-3f7d-4974-9759-615cee139998",
   "metadata": {},
   "outputs": [],
   "source": []
  }
 ],
 "metadata": {
  "kernelspec": {
   "display_name": "Python [conda env:base] *",
   "language": "python",
   "name": "conda-base-py"
  },
  "language_info": {
   "codemirror_mode": {
    "name": "ipython",
    "version": 3
   },
   "file_extension": ".py",
   "mimetype": "text/x-python",
   "name": "python",
   "nbconvert_exporter": "python",
   "pygments_lexer": "ipython3",
   "version": "3.12.7"
  }
 },
 "nbformat": 4,
 "nbformat_minor": 5
}

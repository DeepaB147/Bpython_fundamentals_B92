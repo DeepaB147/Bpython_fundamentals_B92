{
 "cells": [
  {
   "cell_type": "code",
   "execution_count": null,
   "id": "0fa5813a-305e-497f-ae61-6b19f0aa8561",
   "metadata": {},
   "outputs": [],
   "source": [
    "Continuation with list datatypes"
   ]
  },
  {
   "cell_type": "code",
   "execution_count": null,
   "id": "051de6e1-3eab-46d3-a6d6-c73e28f50b9e",
   "metadata": {},
   "outputs": [],
   "source": [
    "Organising the list datatype:"
   ]
  },
  {
   "cell_type": "code",
   "execution_count": 4,
   "id": "19b4e9b1-65ee-426d-b676-125b29c52042",
   "metadata": {},
   "outputs": [
    {
     "name": "stdout",
     "output_type": "stream",
     "text": [
      "['kia', 'audi', 'maruthi', 'benz', 'toyata', 'byd', 'mg']\n"
     ]
    }
   ],
   "source": [
    "cars=['kia','audi','maruthi','benz','toyata','byd','mg']\n",
    "print(cars)"
   ]
  },
  {
   "cell_type": "code",
   "execution_count": null,
   "id": "377312aa-383f-4947-8a23-e58024431f51",
   "metadata": {},
   "outputs": [],
   "source": []
  },
  {
   "cell_type": "code",
   "execution_count": null,
   "id": "8a345d40-e4b5-4284-b17a-e20cb40e885e",
   "metadata": {},
   "outputs": [],
   "source": [
    "#req: i want to arrange the cars list in an alphabatic order... A-Z"
   ]
  },
  {
   "cell_type": "code",
   "execution_count": null,
   "id": "81d8b6ae-7d1e-4aac-97a0-8970d33a8324",
   "metadata": {},
   "outputs": [],
   "source": [
    "2 Approaches:\n",
    "    1 temp approach ---> sorted ---> we will be able to get the original order of the list declared\n",
    "    2 permanent approach ---> sort ---> we will not be able to get the original order ---> changes are applied permanently."
   ]
  },
  {
   "cell_type": "code",
   "execution_count": 6,
   "id": "5cade4fa-bd78-4a85-b527-0d26603d7889",
   "metadata": {},
   "outputs": [
    {
     "name": "stdout",
     "output_type": "stream",
     "text": [
      "['audi', 'benz', 'byd', 'kia', 'maruthi', 'mg', 'toyata']\n"
     ]
    }
   ],
   "source": [
    "print (sorted(cars))"
   ]
  },
  {
   "cell_type": "code",
   "execution_count": 8,
   "id": "a52db67a-2635-49ab-aff5-4fb238521c82",
   "metadata": {},
   "outputs": [
    {
     "name": "stdout",
     "output_type": "stream",
     "text": [
      "['kia', 'audi', 'maruthi', 'benz', 'toyata', 'byd', 'mg']\n"
     ]
    }
   ],
   "source": [
    "print(cars)"
   ]
  },
  {
   "cell_type": "code",
   "execution_count": null,
   "id": "908c07d1-7014-4c8a-aaf4-9b0f28f40c99",
   "metadata": {},
   "outputs": [],
   "source": []
  },
  {
   "cell_type": "code",
   "execution_count": 10,
   "id": "c1973027-0ecb-4bfd-ac56-07d3d0d32064",
   "metadata": {},
   "outputs": [
    {
     "name": "stdout",
     "output_type": "stream",
     "text": [
      "['audi', 'benz', 'byd', 'kia', 'maruthi', 'mg', 'toyata']\n"
     ]
    }
   ],
   "source": [
    "cars.sort()\n",
    "print(cars)"
   ]
  },
  {
   "cell_type": "code",
   "execution_count": 12,
   "id": "c997cb8e-744d-43a6-878f-5292d492c6df",
   "metadata": {},
   "outputs": [
    {
     "name": "stdout",
     "output_type": "stream",
     "text": [
      "['audi', 'benz', 'byd', 'kia', 'maruthi', 'mg', 'toyata']\n"
     ]
    }
   ],
   "source": [
    "print(cars)"
   ]
  },
  {
   "cell_type": "code",
   "execution_count": null,
   "id": "c6c94ac3-aedb-4f4d-8166-c581cb5d6c44",
   "metadata": {},
   "outputs": [],
   "source": []
  },
  {
   "cell_type": "code",
   "execution_count": null,
   "id": "3768af84-4b3f-40e7-80cd-7252eb7c8aed",
   "metadata": {},
   "outputs": [],
   "source": [
    "#req: i want to know the no of items that are there in the list"
   ]
  },
  {
   "cell_type": "code",
   "execution_count": 14,
   "id": "9364c87a-a8fe-47fc-b2e5-b5ccc2d3fcc5",
   "metadata": {},
   "outputs": [
    {
     "data": {
      "text/plain": [
       "7"
      ]
     },
     "execution_count": 14,
     "metadata": {},
     "output_type": "execute_result"
    }
   ],
   "source": [
    "len(cars)"
   ]
  },
  {
   "cell_type": "raw",
   "id": "61bad2c6-66ed-4bdd-8cfd-e0a06beb80e1",
   "metadata": {},
   "source": [
    "#req: i want to print the list in the reverse order..."
   ]
  },
  {
   "cell_type": "code",
   "execution_count": 18,
   "id": "af177e59-355e-40db-98ee-5790722683a1",
   "metadata": {},
   "outputs": [
    {
     "name": "stdout",
     "output_type": "stream",
     "text": [
      "['toyata', 'mg', 'maruthi', 'kia', 'byd', 'benz', 'audi']\n"
     ]
    }
   ],
   "source": [
    "cars.reverse()\n",
    "print(cars)"
   ]
  },
  {
   "cell_type": "code",
   "execution_count": null,
   "id": "b725ff86-261f-446c-bd4e-1f34345e6f32",
   "metadata": {},
   "outputs": [],
   "source": []
  },
  {
   "cell_type": "code",
   "execution_count": null,
   "id": "ea92cbdc-0c6d-4961-8cb2-090b7e02fbb1",
   "metadata": {},
   "outputs": [],
   "source": [
    "Looping statements:"
   ]
  },
  {
   "cell_type": "code",
   "execution_count": null,
   "id": "f5527cdb-71bd-4e56-bf25-e9042430ee65",
   "metadata": {},
   "outputs": [],
   "source": [
    "for loop:\n",
    "#general synyax :   "
   ]
  },
  {
   "cell_type": "code",
   "execution_count": null,
   "id": "aca81d4a-ad1c-4ca5-ac7a-27f3aea8cf4e",
   "metadata": {},
   "outputs": [],
   "source": [
    "for tempvar in mainvar:\n",
    "    print(tempvar)"
   ]
  },
  {
   "cell_type": "code",
   "execution_count": null,
   "id": "9dc4eb5a-b2b3-4302-93c4-5b19de7d9cb3",
   "metadata": {},
   "outputs": [],
   "source": []
  },
  {
   "cell_type": "code",
   "execution_count": 20,
   "id": "a6297104-9199-4251-aaba-f60c41148219",
   "metadata": {},
   "outputs": [
    {
     "name": "stdout",
     "output_type": "stream",
     "text": [
      "['toyata', 'mg', 'maruthi', 'kia', 'byd', 'benz', 'audi']\n"
     ]
    }
   ],
   "source": [
    "print(cars)   #mainvar"
   ]
  },
  {
   "cell_type": "code",
   "execution_count": 24,
   "id": "4e75760b-7360-4ad3-b103-4f2b897053f3",
   "metadata": {},
   "outputs": [
    {
     "name": "stdout",
     "output_type": "stream",
     "text": [
      "Toyata\n",
      "Mg\n",
      "Maruthi\n",
      "Kia\n",
      "Byd\n",
      "Benz\n",
      "Audi\n"
     ]
    }
   ],
   "source": [
    "for x in cars:\n",
    "    print(x.title())"
   ]
  },
  {
   "cell_type": "code",
   "execution_count": 26,
   "id": "ced4a843-4911-43af-80c2-6267933f2c84",
   "metadata": {},
   "outputs": [
    {
     "name": "stdout",
     "output_type": "stream",
     "text": [
      "['lubna', 'ayesha', 'nabeena', 'arvind', 'sohail', 'john']\n"
     ]
    }
   ],
   "source": [
    "students = ['lubna','ayesha','nabeena','arvind','sohail','john']\n",
    "print(students)"
   ]
  },
  {
   "cell_type": "code",
   "execution_count": null,
   "id": "9374f6d9-e396-4e77-9a1c-f200bfcab242",
   "metadata": {},
   "outputs": [],
   "source": []
  },
  {
   "cell_type": "code",
   "execution_count": null,
   "id": "e903d011-22d1-4a2d-b74d-7d1c9aa82ecf",
   "metadata": {},
   "outputs": [],
   "source": [
    "# req: i want to appreciate lubna for daily consistency"
   ]
  },
  {
   "cell_type": "code",
   "execution_count": 28,
   "id": "e34c5f30-6dd8-4d43-82c4-c6937b9ae048",
   "metadata": {},
   "outputs": [
    {
     "name": "stdout",
     "output_type": "stream",
     "text": [
      "keep up the good work, Lubna\n"
     ]
    }
   ],
   "source": [
    "message=f\"keep up the good work, {students[0].title()}\"\n",
    "print(message)"
   ]
  },
  {
   "cell_type": "code",
   "execution_count": 30,
   "id": "c9d7e0f1-bb80-4f24-8bb0-290014b6a042",
   "metadata": {},
   "outputs": [
    {
     "name": "stdout",
     "output_type": "stream",
     "text": [
      "keep up the good work, Ayesha\n"
     ]
    }
   ],
   "source": [
    "message=f\"keep up the good work, {students[1].title()}\"\n",
    "print(message)"
   ]
  },
  {
   "cell_type": "raw",
   "id": "cab69a08-5431-4a5f-8d4a-7dbc2632a341",
   "metadata": {},
   "source": []
  },
  {
   "cell_type": "code",
   "execution_count": 34,
   "id": "5b197903-a07b-4acc-96c1-8b8359572965",
   "metadata": {},
   "outputs": [
    {
     "name": "stdout",
     "output_type": "stream",
     "text": [
      "keep up the good work,Lubna\n",
      "keep up the good work,Ayesha\n",
      "keep up the good work,Nabeena\n",
      "keep up the good work,Arvind\n",
      "keep up the good work,Sohail\n",
      "keep up the good work,John\n"
     ]
    }
   ],
   "source": [
    "for x in students:\n",
    "    print(f\"keep up the good work,{x.title()}\")"
   ]
  },
  {
   "cell_type": "code",
   "execution_count": 38,
   "id": "d1751dd0-00e4-4419-b023-73b035d6711a",
   "metadata": {},
   "outputs": [
    {
     "name": "stdout",
     "output_type": "stream",
     "text": [
      "keep up the good work,Lubna\n",
      "i will be looking forward to recieve your todays submission,Lubna\n",
      "keep up the good work,Ayesha\n",
      "i will be looking forward to recieve your todays submission,Ayesha\n",
      "keep up the good work,Nabeena\n",
      "i will be looking forward to recieve your todays submission,Nabeena\n",
      "keep up the good work,Arvind\n",
      "i will be looking forward to recieve your todays submission,Arvind\n",
      "keep up the good work,Sohail\n",
      "i will be looking forward to recieve your todays submission,Sohail\n",
      "keep up the good work,John\n",
      "i will be looking forward to recieve your todays submission,John\n"
     ]
    }
   ],
   "source": [
    "for x in students:\n",
    "    print(f\"keep up the good work,{x.title()}\")\n",
    "    print(f\"i will be looking forward to recieve your todays submission,{x.title()}\")"
   ]
  },
  {
   "cell_type": "code",
   "execution_count": 40,
   "id": "aae89ca4-8824-4c65-8a00-ba66c2925504",
   "metadata": {},
   "outputs": [
    {
     "name": "stdout",
     "output_type": "stream",
     "text": [
      "keep up the good work,Lubna\n",
      "i will be looking forward to recieve your todays submission,Lubna\n",
      "\n",
      "keep up the good work,Ayesha\n",
      "i will be looking forward to recieve your todays submission,Ayesha\n",
      "\n",
      "keep up the good work,Nabeena\n",
      "i will be looking forward to recieve your todays submission,Nabeena\n",
      "\n",
      "keep up the good work,Arvind\n",
      "i will be looking forward to recieve your todays submission,Arvind\n",
      "\n",
      "keep up the good work,Sohail\n",
      "i will be looking forward to recieve your todays submission,Sohail\n",
      "\n",
      "keep up the good work,John\n",
      "i will be looking forward to recieve your todays submission,John\n",
      "\n"
     ]
    }
   ],
   "source": [
    "for x in students:\n",
    "    print(f\"keep up the good work,{x.title()}\")\n",
    "    print(f\"i will be looking forward to recieve your todays submission,{x.title()}\\n\")"
   ]
  },
  {
   "cell_type": "code",
   "execution_count": 44,
   "id": "d756a4f3-e8a4-4eae-a039-5115f164f34a",
   "metadata": {},
   "outputs": [
    {
     "name": "stdout",
     "output_type": "stream",
     "text": [
      "keep up the good work,Lubna\n",
      "i will be looking forward to recieve your todays submission,Lubna\n",
      "\n",
      "keep up the good work,Ayesha\n",
      "i will be looking forward to recieve your todays submission,Ayesha\n",
      "\n",
      "keep up the good work,Nabeena\n",
      "i will be looking forward to recieve your todays submission,Nabeena\n",
      "\n",
      "keep up the good work,Arvind\n",
      "i will be looking forward to recieve your todays submission,Arvind\n",
      "\n",
      "keep up the good work,Sohail\n",
      "i will be looking forward to recieve your todays submission,Sohail\n",
      "\n",
      "keep up the good work,John\n",
      "i will be looking forward to recieve your todays submission,John\n",
      "\n",
      " Thank you for sharing intrest in learning python\n"
     ]
    }
   ],
   "source": [
    "for x in students:\n",
    "    print(f\"keep up the good work,{x.title()}\")\n",
    "    print(f\"i will be looking forward to recieve your todays submission,{x.title()}\\n\")\n",
    "print(\" Thank you for sharing intrest in learning python\")"
   ]
  },
  {
   "cell_type": "code",
   "execution_count": null,
   "id": "800fbe6c-ddf8-47e2-a41e-770862e82f87",
   "metadata": {},
   "outputs": [],
   "source": []
  },
  {
   "cell_type": "code",
   "execution_count": null,
   "id": "902eeeab-fb53-4d77-882f-9044d82912cb",
   "metadata": {},
   "outputs": [],
   "source": []
  },
  {
   "cell_type": "code",
   "execution_count": null,
   "id": "a9aefa9f-1c56-47d6-87bc-0512a9c4015d",
   "metadata": {},
   "outputs": [],
   "source": []
  },
  {
   "cell_type": "code",
   "execution_count": null,
   "id": "3f7866ee-fc2f-4723-99a6-5c4071f0a8bc",
   "metadata": {},
   "outputs": [],
   "source": []
  }
 ],
 "metadata": {
  "kernelspec": {
   "display_name": "Python [conda env:base] *",
   "language": "python",
   "name": "conda-base-py"
  },
  "language_info": {
   "codemirror_mode": {
    "name": "ipython",
    "version": 3
   },
   "file_extension": ".py",
   "mimetype": "text/x-python",
   "name": "python",
   "nbconvert_exporter": "python",
   "pygments_lexer": "ipython3",
   "version": "3.12.7"
  }
 },
 "nbformat": 4,
 "nbformat_minor": 5
}

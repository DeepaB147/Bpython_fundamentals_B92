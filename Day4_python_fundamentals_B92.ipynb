{
 "cells": [
  {
   "cell_type": "code",
   "execution_count": null,
   "id": "27d058ea-018b-4031-b2ef-c11a4e72d797",
   "metadata": {},
   "outputs": [],
   "source": [
    "Introduction to list datatype:"
   ]
  },
  {
   "cell_type": "code",
   "execution_count": null,
   "id": "174c42bd-abbd-4a7d-b2c0-f80f7b32abd0",
   "metadata": {},
   "outputs": [],
   "source": [
    "Defination: A list is a collection of items declared in a particular order."
   ]
  },
  {
   "cell_type": "code",
   "execution_count": null,
   "id": "1bdac52b-cbff-46f8-8155-bc0bcc467d0e",
   "metadata": {},
   "outputs": [],
   "source": [
    "Classification: It is classified as an mutable datatype( edit or alter)"
   ]
  },
  {
   "cell_type": "code",
   "execution_count": null,
   "id": "da66cacf-4f92-413f-afed-00074ee1c332",
   "metadata": {},
   "outputs": [],
   "source": [
    "how to define the list...?"
   ]
  },
  {
   "cell_type": "code",
   "execution_count": 15,
   "id": "3d2e8041-16a0-4d4b-9f44-4242e13b361f",
   "metadata": {},
   "outputs": [
    {
     "name": "stdout",
     "output_type": "stream",
     "text": [
      "['lubna', 'ayesha', 'nabeena', 'arvind', 'sohail', 'john']\n"
     ]
    }
   ],
   "source": [
    "students = ['lubna','ayesha','nabeena','arvind','sohail','john']\n",
    "print(students)"
   ]
  },
  {
   "cell_type": "code",
   "execution_count": null,
   "id": "2c8d1732-6e20-40cf-8142-317a3726f8f4",
   "metadata": {},
   "outputs": [],
   "source": []
  },
  {
   "cell_type": "code",
   "execution_count": null,
   "id": "6191c36a-2be1-4419-b472-558c9cbd0205",
   "metadata": {},
   "outputs": [],
   "source": [
    "Understanding the concept of indexing:"
   ]
  },
  {
   "cell_type": "code",
   "execution_count": null,
   "id": "22d889c5-b275-4a3b-aa89-c4dfcb7a01df",
   "metadata": {},
   "outputs": [],
   "source": [
    "# i wanted to get the name of lubna in the output"
   ]
  },
  {
   "cell_type": "code",
   "execution_count": 7,
   "id": "6fcb53be-6b24-4e61-b355-2012040a1487",
   "metadata": {},
   "outputs": [
    {
     "name": "stdout",
     "output_type": "stream",
     "text": [
      "lubna\n"
     ]
    }
   ],
   "source": [
    "print(students[0])"
   ]
  },
  {
   "cell_type": "code",
   "execution_count": 9,
   "id": "f323461f-1323-4d46-9504-d7cd6b22252e",
   "metadata": {},
   "outputs": [
    {
     "name": "stdout",
     "output_type": "stream",
     "text": [
      "Lubna\n"
     ]
    }
   ],
   "source": [
    "print(students[0].title())"
   ]
  },
  {
   "cell_type": "code",
   "execution_count": null,
   "id": "93294c88-4a13-4e26-965f-57c9ca43676e",
   "metadata": {},
   "outputs": [],
   "source": [
    "# i wanted to get the name of the nabeena in the output"
   ]
  },
  {
   "cell_type": "code",
   "execution_count": 17,
   "id": "8743688c-cb58-4050-a2da-0886c2466866",
   "metadata": {},
   "outputs": [
    {
     "name": "stdout",
     "output_type": "stream",
     "text": [
      "Nabeena\n"
     ]
    }
   ],
   "source": [
    "print(students[2].title())"
   ]
  },
  {
   "cell_type": "code",
   "execution_count": null,
   "id": "84381ca2-3864-4e66-9e46-29fa323e3025",
   "metadata": {},
   "outputs": [],
   "source": [
    "1 How to add new elements to the list datatypes"
   ]
  },
  {
   "cell_type": "code",
   "execution_count": null,
   "id": "ed8a4c7c-45f0-43d5-a5f4-0d2b70a6fe9a",
   "metadata": {},
   "outputs": [],
   "source": [
    "2 How to modify the elements in the list datatypes"
   ]
  },
  {
   "cell_type": "code",
   "execution_count": null,
   "id": "efa68113-662a-4de7-8561-992ebcfbd360",
   "metadata": {},
   "outputs": [],
   "source": [
    "3 How to delete the elements in the list datatypes"
   ]
  },
  {
   "cell_type": "code",
   "execution_count": null,
   "id": "16f2a81d-bddc-4749-867b-ba45393b9cc0",
   "metadata": {},
   "outputs": [],
   "source": []
  },
  {
   "cell_type": "code",
   "execution_count": null,
   "id": "0fb935a3-2d6c-43e6-aabf-f4994387e72f",
   "metadata": {},
   "outputs": [],
   "source": [
    "#req: i want to add tazeen to the above list."
   ]
  },
  {
   "cell_type": "code",
   "execution_count": 19,
   "id": "a2b9c53f-ed16-41a6-b2bf-c9deaff300b2",
   "metadata": {},
   "outputs": [
    {
     "name": "stdout",
     "output_type": "stream",
     "text": [
      "['lubna', 'ayesha', 'nabeena', 'arvind', 'sohail', 'john', 'tazeen']\n"
     ]
    }
   ],
   "source": [
    "students.append('tazeen')\n",
    "print(students)"
   ]
  },
  {
   "cell_type": "code",
   "execution_count": null,
   "id": "f7d3f72d-95dc-483b-9126-6b8c020a8ce4",
   "metadata": {},
   "outputs": [],
   "source": []
  },
  {
   "cell_type": "code",
   "execution_count": null,
   "id": "afcc54da-2f9e-4b40-af19-17c47b4dba1e",
   "metadata": {},
   "outputs": [],
   "source": [
    "#req: i want to  david to the above list"
   ]
  },
  {
   "cell_type": "code",
   "execution_count": 21,
   "id": "c8881c6e-b667-441d-bf2a-720fea647913",
   "metadata": {},
   "outputs": [
    {
     "name": "stdout",
     "output_type": "stream",
     "text": [
      "['lubna', 'ayesha', 'nabeena', 'arvind', 'sohail', 'john', 'tazeen', 'david']\n"
     ]
    }
   ],
   "source": [
    "students.append('david')\n",
    "print(students)"
   ]
  },
  {
   "cell_type": "code",
   "execution_count": null,
   "id": "5a35beb7-6388-4386-b7af-4e138beb2a75",
   "metadata": {},
   "outputs": [],
   "source": []
  },
  {
   "cell_type": "code",
   "execution_count": null,
   "id": "124a31db-c991-4ac4-a8b1-6c54225c51b1",
   "metadata": {},
   "outputs": [],
   "source": [
    "#req: i want to add poojitha name in the second index"
   ]
  },
  {
   "cell_type": "code",
   "execution_count": 25,
   "id": "96ef8b95-56ac-40b7-8d4e-7951d8ce40e2",
   "metadata": {},
   "outputs": [
    {
     "name": "stdout",
     "output_type": "stream",
     "text": [
      "['lubna', 'ayesha', 'poojitha', 'nabeena', 'arvind', 'sohail', 'john', 'tazeen', 'david']\n"
     ]
    }
   ],
   "source": [
    "students.insert(2,'poojitha')\n",
    "print(students)"
   ]
  },
  {
   "cell_type": "code",
   "execution_count": 27,
   "id": "61950c28-6113-407b-bf37-71eb5f576576",
   "metadata": {},
   "outputs": [
    {
     "name": "stdout",
     "output_type": "stream",
     "text": [
      "Poojitha\n"
     ]
    }
   ],
   "source": [
    "print(students[2].title())"
   ]
  },
  {
   "cell_type": "code",
   "execution_count": null,
   "id": "882b838d-60d3-471a-a610-c68d7e470e14",
   "metadata": {},
   "outputs": [],
   "source": []
  },
  {
   "cell_type": "code",
   "execution_count": null,
   "id": "dc3a7b7b-ee54-49a7-accb-0d96470ea158",
   "metadata": {},
   "outputs": [],
   "source": [
    "2 Modify:"
   ]
  },
  {
   "cell_type": "code",
   "execution_count": null,
   "id": "6799ae99-d0de-4700-a5c7-213037b66d75",
   "metadata": {},
   "outputs": [],
   "source": [
    "#req: i want to modify poojitha name to ramya"
   ]
  },
  {
   "cell_type": "code",
   "execution_count": 29,
   "id": "c8dc6bce-7c47-4ba4-811c-f40c6e5fc9f9",
   "metadata": {},
   "outputs": [
    {
     "name": "stdout",
     "output_type": "stream",
     "text": [
      "['lubna', 'ayesha', 'ramya', 'nabeena', 'arvind', 'sohail', 'john', 'tazeen', 'david']\n"
     ]
    }
   ],
   "source": [
    "students[2]='ramya'\n",
    "print(students)"
   ]
  },
  {
   "cell_type": "code",
   "execution_count": null,
   "id": "13298264-9bd6-42cb-91ff-625e645abdc6",
   "metadata": {},
   "outputs": [],
   "source": []
  },
  {
   "cell_type": "code",
   "execution_count": null,
   "id": "dfe68cbe-4d86-4675-a4b4-342965b1a967",
   "metadata": {},
   "outputs": [],
   "source": [
    "3 Delete:\n",
    "  1 temporary deliting\n",
    "  2 permanent deleting"
   ]
  },
  {
   "cell_type": "code",
   "execution_count": 33,
   "id": "0b0e30fe-7d50-44bb-8ad9-65771d988b31",
   "metadata": {},
   "outputs": [
    {
     "name": "stdout",
     "output_type": "stream",
     "text": [
      "['lubna', 'ayesha', 'ramya', 'nabeena', 'arvind', 'sohail', 'john', 'tazeen', 'david']\n"
     ]
    }
   ],
   "source": [
    "print(students)"
   ]
  },
  {
   "cell_type": "code",
   "execution_count": null,
   "id": "fe802d80-7135-478e-b1f0-8d93580232ef",
   "metadata": {},
   "outputs": [],
   "source": [
    "#i want to delete lubna name: pop"
   ]
  },
  {
   "cell_type": "code",
   "execution_count": null,
   "id": "e742706c-df31-4173-ab2a-96d3cd9663c4",
   "metadata": {},
   "outputs": [],
   "source": [
    "Note: pop by default will be deleting the last element item in the list and \n",
    "it will be creating a carbon copy of the deleted item with the variable that has been assigned to it."
   ]
  },
  {
   "cell_type": "code",
   "execution_count": 37,
   "id": "ca1962a8-a506-46a2-8c57-52ef82c0b11d",
   "metadata": {},
   "outputs": [
    {
     "name": "stdout",
     "output_type": "stream",
     "text": [
      "['lubna', 'ayesha', 'ramya', 'nabeena', 'arvind', 'sohail', 'john']\n",
      "tazeen\n"
     ]
    }
   ],
   "source": [
    "x=students.pop()\n",
    "print(students)\n",
    "print(x)"
   ]
  },
  {
   "cell_type": "raw",
   "id": "8196ead1-f81a-4ad3-9bcb-0eadd7b49ff5",
   "metadata": {},
   "source": []
  },
  {
   "cell_type": "code",
   "execution_count": 39,
   "id": "85fa3b7d-bc17-4dd7-a4f5-33f235b73293",
   "metadata": {},
   "outputs": [
    {
     "name": "stdout",
     "output_type": "stream",
     "text": [
      "['lubna', 'ayesha', 'ramya', 'nabeena', 'arvind', 'sohail']\n",
      "john\n"
     ]
    }
   ],
   "source": [
    "y=students.pop()\n",
    "print(students)\n",
    "print(y)"
   ]
  },
  {
   "cell_type": "code",
   "execution_count": null,
   "id": "e94755bb-ecfc-432d-995b-d1e4a79aebe0",
   "metadata": {},
   "outputs": [],
   "source": []
  },
  {
   "cell_type": "code",
   "execution_count": null,
   "id": "7e46ae37-42b0-4d58-afa5-9fbc820b3f9f",
   "metadata": {},
   "outputs": [],
   "source": [
    "#req: i want to delete arvind name"
   ]
  },
  {
   "cell_type": "code",
   "execution_count": 41,
   "id": "b10457b8-3b52-4155-9aca-723b7d70b3bd",
   "metadata": {},
   "outputs": [
    {
     "name": "stdout",
     "output_type": "stream",
     "text": [
      "['lubna', 'ayesha', 'ramya', 'arvind', 'sohail']\n"
     ]
    }
   ],
   "source": [
    "del students[3]\n",
    "print(students)"
   ]
  },
  {
   "cell_type": "code",
   "execution_count": 43,
   "id": "9df63e55-a1dd-4e39-aefe-7105fd0a1dd9",
   "metadata": {},
   "outputs": [
    {
     "name": "stdout",
     "output_type": "stream",
     "text": [
      "['lubna', 'ayesha', 'ramya', 'arvind', 'sohail']\n"
     ]
    }
   ],
   "source": [
    "print(students)"
   ]
  },
  {
   "cell_type": "code",
   "execution_count": null,
   "id": "2e1e76b0-c321-460c-9484-9548b7cb1a97",
   "metadata": {},
   "outputs": [],
   "source": []
  },
  {
   "cell_type": "code",
   "execution_count": null,
   "id": "03645df8-b7c0-450c-8a4f-1ed1860bec9c",
   "metadata": {},
   "outputs": [],
   "source": []
  },
  {
   "cell_type": "code",
   "execution_count": null,
   "id": "6fc3ff2a-6ac1-4269-897b-ac5ae467a118",
   "metadata": {},
   "outputs": [],
   "source": []
  },
  {
   "cell_type": "code",
   "execution_count": null,
   "id": "ec86be94-a3e2-4122-9cd0-97949765777d",
   "metadata": {},
   "outputs": [],
   "source": []
  }
 ],
 "metadata": {
  "kernelspec": {
   "display_name": "Python [conda env:base] *",
   "language": "python",
   "name": "conda-base-py"
  },
  "language_info": {
   "codemirror_mode": {
    "name": "ipython",
    "version": 3
   },
   "file_extension": ".py",
   "mimetype": "text/x-python",
   "name": "python",
   "nbconvert_exporter": "python",
   "pygments_lexer": "ipython3",
   "version": "3.12.7"
  }
 },
 "nbformat": 4,
 "nbformat_minor": 5
}

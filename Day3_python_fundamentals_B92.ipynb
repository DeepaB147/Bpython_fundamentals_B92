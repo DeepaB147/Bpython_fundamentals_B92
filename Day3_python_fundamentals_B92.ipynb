{
 "cells": [
  {
   "cell_type": "code",
   "execution_count": null,
   "id": "0be4768f-5b91-4744-9416-c13c15b2c5d5",
   "metadata": {},
   "outputs": [],
   "source": [
    "Continuation with string data types"
   ]
  },
  {
   "cell_type": "code",
   "execution_count": null,
   "id": "6c450b9c-944a-4662-9951-f788414d7381",
   "metadata": {},
   "outputs": [],
   "source": [
    "Introduction to f strings:"
   ]
  },
  {
   "cell_type": "code",
   "execution_count": null,
   "id": "e68803c3-94da-4574-9261-d88a5097dfbe",
   "metadata": {},
   "outputs": [],
   "source": [
    "#General syntax of f strings:"
   ]
  },
  {
   "cell_type": "code",
   "execution_count": null,
   "id": "b995e55d-be5b-4a43-bd02-1e6aa73c9bce",
   "metadata": {},
   "outputs": [],
   "source": [
    "f \" custom message {place_holder_1} {place_holder_2}....{place_holder_n}\""
   ]
  },
  {
   "cell_type": "code",
   "execution_count": null,
   "id": "0a2afd14-9c82-4f22-9d1b-1c95181e2574",
   "metadata": {},
   "outputs": [],
   "source": [
    "firstname = \"David\""
   ]
  },
  {
   "cell_type": "code",
   "execution_count": null,
   "id": "a7a822a7-1f66-4167-b4f5-0c02d6ca9dde",
   "metadata": {},
   "outputs": [],
   "source": [
    "lastname = \"john\""
   ]
  },
  {
   "cell_type": "code",
   "execution_count": null,
   "id": "457a283b-f1f7-47cb-919a-cfacec9393b5",
   "metadata": {},
   "outputs": [],
   "source": [
    "#req: I want to get the fullname"
   ]
  },
  {
   "cell_type": "code",
   "execution_count": null,
   "id": "6159e765-99e5-42f1-927e-fd298090eb2b",
   "metadata": {},
   "outputs": [],
   "source": [
    "fullname= f\" {firstname}{lastname}\""
   ]
  },
  {
   "cell_type": "code",
   "execution_count": 43,
   "id": "424d7dd1-0f92-4946-b1a2-1e0a0b3031a8",
   "metadata": {},
   "outputs": [
    {
     "ename": "NameError",
     "evalue": "name 'fullname' is not defined",
     "output_type": "error",
     "traceback": [
      "\u001b[1;31m---------------------------------------------------------------------------\u001b[0m",
      "\u001b[1;31mNameError\u001b[0m                                 Traceback (most recent call last)",
      "Cell \u001b[1;32mIn[43], line 1\u001b[0m\n\u001b[1;32m----> 1\u001b[0m \u001b[38;5;28mprint\u001b[39m(fullname)\n",
      "\u001b[1;31mNameError\u001b[0m: name 'fullname' is not defined"
     ]
    }
   ],
   "source": [
    "print(fullname)"
   ]
  },
  {
   "cell_type": "code",
   "execution_count": 33,
   "id": "2bf1c27f-c1f3-447a-92f8-2c6f7f15332b",
   "metadata": {},
   "outputs": [
    {
     "ename": "NameError",
     "evalue": "name 'fullname' is not defined",
     "output_type": "error",
     "traceback": [
      "\u001b[1;31m---------------------------------------------------------------------------\u001b[0m",
      "\u001b[1;31mNameError\u001b[0m                                 Traceback (most recent call last)",
      "Cell \u001b[1;32mIn[33], line 1\u001b[0m\n\u001b[1;32m----> 1\u001b[0m \u001b[38;5;28mtype\u001b[39m(fullname)\n",
      "\u001b[1;31mNameError\u001b[0m: name 'fullname' is not defined"
     ]
    }
   ],
   "source": [
    "type(fullname)"
   ]
  },
  {
   "cell_type": "code",
   "execution_count": null,
   "id": "09fea5e8-a5ff-4993-843d-7491458b823f",
   "metadata": {},
   "outputs": [],
   "source": []
  },
  {
   "cell_type": "code",
   "execution_count": null,
   "id": "99736ce3-15c8-4eff-9205-bf4b76dbc77a",
   "metadata": {},
   "outputs": [],
   "source": [
    "#adding whitespaces to string:"
   ]
  },
  {
   "cell_type": "code",
   "execution_count": 37,
   "id": "77f9219a-9495-4aa7-b62e-ceffca84b8e6",
   "metadata": {},
   "outputs": [
    {
     "name": "stdout",
     "output_type": "stream",
     "text": [
      "fav_programming_lang:pythonc++javacjavascriptswift\n"
     ]
    }
   ],
   "source": [
    "print(\"fav_programming_lang:pythonc++javacjavascriptswift\")"
   ]
  },
  {
   "cell_type": "code",
   "execution_count": 45,
   "id": "d3774468-29eb-4f61-a1e3-9e2dd1161155",
   "metadata": {},
   "outputs": [
    {
     "name": "stdout",
     "output_type": "stream",
     "text": [
      "fav_programming_lang:\n",
      "python\n",
      "c++\n",
      "java\n",
      "c\n",
      "javascript\n",
      "swift\n"
     ]
    }
   ],
   "source": [
    "print(\"fav_programming_lang:\\npython\\nc++\\njava\\nc\\njavascript\\nswift\") #\\n newline delimiter"
   ]
  },
  {
   "cell_type": "code",
   "execution_count": 47,
   "id": "003be274-485a-46a9-9e20-1378ad41e948",
   "metadata": {},
   "outputs": [
    {
     "name": "stdout",
     "output_type": "stream",
     "text": [
      "fav_programming_lang:\n",
      "\tpython\n",
      "\tc++\n",
      "\tjava\n",
      "\tc\n",
      "\tjavascript\n",
      "\tswift\n"
     ]
    }
   ],
   "source": [
    "print(\"fav_programming_lang:\\n\\tpython\\n\\tc++\\n\\tjava\\n\\tc\\n\\tjavascript\\n\\tswift\") #\\t newline delimiter"
   ]
  },
  {
   "cell_type": "code",
   "execution_count": null,
   "id": "fddc7f68-7c6e-4496-98bb-1e861f6db040",
   "metadata": {},
   "outputs": [],
   "source": []
  },
  {
   "cell_type": "code",
   "execution_count": null,
   "id": "2748a497-25d6-4f2f-aa26-4111cb5590ac",
   "metadata": {},
   "outputs": [],
   "source": [
    "Removing whitespaces from the string"
   ]
  },
  {
   "cell_type": "code",
   "execution_count": null,
   "id": "730523ff-3043-487a-b9b7-d0b3924f17b4",
   "metadata": {},
   "outputs": [],
   "source": [
    "name=' python'"
   ]
  },
  {
   "cell_type": "code",
   "execution_count": 53,
   "id": "d4b6e734-ae83-489e-8f9f-34ad0b41f31b",
   "metadata": {},
   "outputs": [
    {
     "ename": "NameError",
     "evalue": "name 'name' is not defined",
     "output_type": "error",
     "traceback": [
      "\u001b[1;31m---------------------------------------------------------------------------\u001b[0m",
      "\u001b[1;31mNameError\u001b[0m                                 Traceback (most recent call last)",
      "Cell \u001b[1;32mIn[53], line 1\u001b[0m\n\u001b[1;32m----> 1\u001b[0m \u001b[38;5;28mprint\u001b[39m(name)\n",
      "\u001b[1;31mNameError\u001b[0m: name 'name' is not defined"
     ]
    }
   ],
   "source": [
    "print(name)"
   ]
  },
  {
   "cell_type": "code",
   "execution_count": null,
   "id": "832e801e-e028-48e4-8bda-9545045a3603",
   "metadata": {},
   "outputs": [],
   "source": [
    "name2='python'"
   ]
  },
  {
   "cell_type": "code",
   "execution_count": 55,
   "id": "518ad4d1-89ba-4e1b-8a75-0dbf909d01e2",
   "metadata": {},
   "outputs": [
    {
     "ename": "NameError",
     "evalue": "name 'name2' is not defined",
     "output_type": "error",
     "traceback": [
      "\u001b[1;31m---------------------------------------------------------------------------\u001b[0m",
      "\u001b[1;31mNameError\u001b[0m                                 Traceback (most recent call last)",
      "Cell \u001b[1;32mIn[55], line 1\u001b[0m\n\u001b[1;32m----> 1\u001b[0m \u001b[38;5;28mprint\u001b[39m(name2)\n",
      "\u001b[1;31mNameError\u001b[0m: name 'name2' is not defined"
     ]
    }
   ],
   "source": [
    "print(name2)"
   ]
  },
  {
   "cell_type": "code",
   "execution_count": null,
   "id": "908e772d-bf35-4651-a49d-778b8680f3f0",
   "metadata": {},
   "outputs": [],
   "source": [
    "name3='pyhton '"
   ]
  },
  {
   "cell_type": "code",
   "execution_count": 57,
   "id": "bdab4a16-ccd3-4d8f-86c3-2b3b1e5c1acf",
   "metadata": {},
   "outputs": [
    {
     "ename": "NameError",
     "evalue": "name 'name3' is not defined",
     "output_type": "error",
     "traceback": [
      "\u001b[1;31m---------------------------------------------------------------------------\u001b[0m",
      "\u001b[1;31mNameError\u001b[0m                                 Traceback (most recent call last)",
      "Cell \u001b[1;32mIn[57], line 1\u001b[0m\n\u001b[1;32m----> 1\u001b[0m \u001b[38;5;28mprint\u001b[39m(name3)\n",
      "\u001b[1;31mNameError\u001b[0m: name 'name3' is not defined"
     ]
    }
   ],
   "source": [
    "print(name3)"
   ]
  },
  {
   "cell_type": "code",
   "execution_count": 59,
   "id": "71bc8630-4206-435a-8bc7-7a87aecd48cf",
   "metadata": {},
   "outputs": [
    {
     "ename": "NameError",
     "evalue": "name 'name' is not defined",
     "output_type": "error",
     "traceback": [
      "\u001b[1;31m---------------------------------------------------------------------------\u001b[0m",
      "\u001b[1;31mNameError\u001b[0m                                 Traceback (most recent call last)",
      "Cell \u001b[1;32mIn[59], line 1\u001b[0m\n\u001b[1;32m----> 1\u001b[0m name\u001b[38;5;241m.\u001b[39mlstrip()\n",
      "\u001b[1;31mNameError\u001b[0m: name 'name' is not defined"
     ]
    }
   ],
   "source": [
    "name.lstrip()"
   ]
  },
  {
   "cell_type": "raw",
   "id": "08055203-8ed5-4e28-a0c7-731b22a8d612",
   "metadata": {},
   "source": [
    "name3.rstrip()"
   ]
  },
  {
   "cell_type": "code",
   "execution_count": null,
   "id": "f8133f2a-1f4a-423f-b6dd-66df82a3c859",
   "metadata": {},
   "outputs": [],
   "source": [
    "name4=\" python \""
   ]
  },
  {
   "cell_type": "code",
   "execution_count": 61,
   "id": "c8582ec2-846f-4066-984d-29cd21d649ac",
   "metadata": {},
   "outputs": [
    {
     "ename": "NameError",
     "evalue": "name 'name4' is not defined",
     "output_type": "error",
     "traceback": [
      "\u001b[1;31m---------------------------------------------------------------------------\u001b[0m",
      "\u001b[1;31mNameError\u001b[0m                                 Traceback (most recent call last)",
      "Cell \u001b[1;32mIn[61], line 1\u001b[0m\n\u001b[1;32m----> 1\u001b[0m \u001b[38;5;28mprint\u001b[39m(name4)\n",
      "\u001b[1;31mNameError\u001b[0m: name 'name4' is not defined"
     ]
    }
   ],
   "source": [
    "print(name4)"
   ]
  },
  {
   "cell_type": "code",
   "execution_count": 63,
   "id": "ebd8b012-4356-46a7-af80-7978da39cc67",
   "metadata": {},
   "outputs": [
    {
     "ename": "NameError",
     "evalue": "name 'name4' is not defined",
     "output_type": "error",
     "traceback": [
      "\u001b[1;31m---------------------------------------------------------------------------\u001b[0m",
      "\u001b[1;31mNameError\u001b[0m                                 Traceback (most recent call last)",
      "Cell \u001b[1;32mIn[63], line 1\u001b[0m\n\u001b[1;32m----> 1\u001b[0m name4\u001b[38;5;241m.\u001b[39mstrip()\n",
      "\u001b[1;31mNameError\u001b[0m: name 'name4' is not defined"
     ]
    }
   ],
   "source": [
    "name4.strip()"
   ]
  },
  {
   "cell_type": "code",
   "execution_count": null,
   "id": "7cfd8742-6778-410a-a370-eb6a27144fc7",
   "metadata": {},
   "outputs": [],
   "source": []
  },
  {
   "cell_type": "code",
   "execution_count": null,
   "id": "bf746f14-1c51-4b29-a3f4-c678370cc798",
   "metadata": {},
   "outputs": [],
   "source": []
  }
 ],
 "metadata": {
  "kernelspec": {
   "display_name": "Python [conda env:base] *",
   "language": "python",
   "name": "conda-base-py"
  },
  "language_info": {
   "codemirror_mode": {
    "name": "ipython",
    "version": 3
   },
   "file_extension": ".py",
   "mimetype": "text/x-python",
   "name": "python",
   "nbconvert_exporter": "python",
   "pygments_lexer": "ipython3",
   "version": "3.12.7"
  }
 },
 "nbformat": 4,
 "nbformat_minor": 5
}
